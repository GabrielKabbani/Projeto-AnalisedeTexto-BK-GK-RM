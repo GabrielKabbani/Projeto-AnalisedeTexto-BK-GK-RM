{
 "cells": [
  {
   "attachments": {},
   "cell_type": "markdown",
   "metadata": {},
   "source": [
    "# Projeto | Análise de Texto e Fontes Desestruturadas Web\n",
    "\n",
    "## Feito por: Beni Kracochansky | Gabriel Kabbani | Rodrigo Mattar\n",
    "\n",
    "A ideia do projeto é fazer um código que, dado a url do pdf do 10K de uma empresa listada americana, consiga baixar esse pdf e então fazer uma análise gráfica do faturamento e EBITDA da companhia em questão. \n",
    "\n",
    "Para testar o funcionamento do projeto, utilizamos o 10K (annual fillings para a SEC) da Apple.\n"
   ]
  },
  {
   "cell_type": "code",
   "execution_count": 2,
   "metadata": {},
   "outputs": [],
   "source": [
    "import requests"
   ]
  },
  {
   "attachments": {},
   "cell_type": "markdown",
   "metadata": {},
   "source": [
    "### Extração dos dados:"
   ]
  },
  {
   "cell_type": "code",
   "execution_count": 3,
   "metadata": {},
   "outputs": [],
   "source": [
    "\n",
    "data_url = \"https://d18rn0p25nwr6d.cloudfront.net/CIK-0000320193/b4266e40-1de6-4a34-9dfb-8632b8bd57e0.pdf\" #link para o 10k da Apple\n",
    "\n",
    "nome_saida = 'apple10k.pdf'\n",
    "\n",
    "def baixa(pdf_url, nome_saida):\n",
    "    response = requests.get(pdf_url) #pegando o pdf\n",
    "    \n",
    "    response.raise_for_status()  # vendo se está válido\n",
    "\n",
    "    with open(nome_saida, 'wb') as output_file:\n",
    "    \n",
    "        output_file.write(response.content) #escrevendo arquvio de saida\n",
    "\n",
    "baixa(data_url, nome_saida)"
   ]
  },
  {
   "cell_type": "code",
   "execution_count": null,
   "metadata": {},
   "outputs": [],
   "source": []
  }
 ],
 "metadata": {
  "kernelspec": {
   "display_name": "Python 3",
   "language": "python",
   "name": "python3"
  },
  "language_info": {
   "codemirror_mode": {
    "name": "ipython",
    "version": 3
   },
   "file_extension": ".py",
   "mimetype": "text/x-python",
   "name": "python",
   "nbconvert_exporter": "python",
   "pygments_lexer": "ipython3",
   "version": "3.9.13"
  },
  "orig_nbformat": 4
 },
 "nbformat": 4,
 "nbformat_minor": 2
}
