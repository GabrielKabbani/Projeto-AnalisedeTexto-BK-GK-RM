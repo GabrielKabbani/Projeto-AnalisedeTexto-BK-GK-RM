{
 "cells": [
  {
   "attachments": {},
   "cell_type": "markdown",
   "metadata": {},
   "source": [
    "# Projeto | Análise de Texto e Fontes Desestruturadas Web\n",
    "\n",
    "## Feito por: Beni Kracochansky | Gabriel Kabbani | Rodrigo Mattar\n",
    "\n",
    "A ideia do projeto é fazer um código que, dado a url do pdf do 10K de uma empresa listada americana, consiga baixar esse pdf e então fazer uma análise gráfica do faturamento e EBITDA da companhia em questão. \n",
    "\n",
    "Para testar o funcionamento do projeto, utilizamos o 10K (annual fillings para a SEC) da Apple.\n"
   ]
  },
  {
   "cell_type": "code",
   "execution_count": 11,
   "metadata": {},
   "outputs": [],
   "source": [
    "import requests\n",
    "\n",
    "\n",
    "# PDF para imagem\n",
    "from pdf2image import convert_from_path\n",
    "\n",
    "# para trabalhar com diretórios / sistema operacional\n",
    "import os\n",
    "\n",
    "# para os DataFrames\n",
    "import pandas as pd\n",
    "\n",
    "# para exibir os arquivos de imagem\n",
    "import cv2\n",
    "import matplotlib.pyplot as plt\n",
    "\n",
    "#OCR\n",
    "import pytesseract"
   ]
  },
  {
   "attachments": {},
   "cell_type": "markdown",
   "metadata": {},
   "source": [
    "### Baixando Arquivo e Salvando como PDF:"
   ]
  },
  {
   "cell_type": "code",
   "execution_count": 12,
   "metadata": {},
   "outputs": [],
   "source": [
    "\n",
    "data_url = \"https://d18rn0p25nwr6d.cloudfront.net/CIK-0000320193/b4266e40-1de6-4a34-9dfb-8632b8bd57e0.pdf\" #link para o 10k da Apple\n",
    "\n",
    "nome_saida = 'apple10k.pdf'\n",
    "\n",
    "def baixa(pdf_url, nome_saida):\n",
    "    response = requests.get(pdf_url) #pegando o pdf\n",
    "    \n",
    "    response.raise_for_status()  # vendo se está válido\n",
    "\n",
    "    with open(nome_saida, 'wb') as output_file:\n",
    "    \n",
    "        output_file.write(response.content) #escrevendo arquvio de saida\n",
    "\n",
    "baixa(data_url, nome_saida)"
   ]
  },
  {
   "attachments": {},
   "cell_type": "markdown",
   "metadata": {},
   "source": [
    "### Salvando PDF como imagem"
   ]
  },
  {
   "cell_type": "code",
   "execution_count": 13,
   "metadata": {},
   "outputs": [],
   "source": [
    "paginas = convert_from_path('apple10k.pdf', 200)\n"
   ]
  },
  {
   "cell_type": "code",
   "execution_count": 14,
   "metadata": {},
   "outputs": [],
   "source": [
    "#Salvando cada pagina do PDF como imagem para extracao usando OCR\n",
    "i = 1\n",
    "lista_imagens = []\n",
    "for pg in paginas:\n",
    "    img_path = './img/Apple10k_{}.jpg'.format(i)\n",
    "    pg.save(img_path, 'JPEG')\n",
    "    lista_imagens.append(img_path)\n",
    "    i += 1"
   ]
  },
  {
   "attachments": {},
   "cell_type": "markdown",
   "metadata": {},
   "source": [
    "### Extraindo os dados das imagens e salvando no arquivo txt\n"
   ]
  },
  {
   "cell_type": "code",
   "execution_count": 15,
   "metadata": {},
   "outputs": [],
   "source": [
    "with open('./text/texto.txt', 'w') as f:\n",
    "    for image_path in lista_imagens:\n",
    "        try:\n",
    "            text = pytesseract.image_to_string(image_path)\n",
    "            str_texto = \"\".join(text)\n",
    "            f.write(str_texto)\n",
    "        except Exception as e:\n",
    "            print(f\"Error processing {image_path}: {str(e)}\")\n"
   ]
  }
 ],
 "metadata": {
  "kernelspec": {
   "display_name": "Python 3",
   "language": "python",
   "name": "python3"
  },
  "language_info": {
   "codemirror_mode": {
    "name": "ipython",
    "version": 3
   },
   "file_extension": ".py",
   "mimetype": "text/x-python",
   "name": "python",
   "nbconvert_exporter": "python",
   "pygments_lexer": "ipython3",
   "version": "3.10.6"
  },
  "orig_nbformat": 4
 },
 "nbformat": 4,
 "nbformat_minor": 2
}
