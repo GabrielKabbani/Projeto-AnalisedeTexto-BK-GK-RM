{
 "cells": [
  {
   "attachments": {},
   "cell_type": "markdown",
   "metadata": {},
   "source": [
    "# Projeto | Análise de Texto e Fontes Desestruturadas Web\n",
    "\n",
    "## Feito por: Beni Kracochansky | Gabriel Kabbani | Rodrigo Mattar\n",
    "\n",
    "A ideia do projeto é fazer um código que, dado a url do pdf do 10K de uma empresa listada americana, consiga baixar esse pdf e então fazer uma análise gráfica do faturamento e EBITDA da companhia em questão. \n",
    "\n",
    "Para testar o funcionamento do projeto, utilizamos o 10K (annual fillings para a SEC) da Apple.\n"
   ]
  },
  {
   "cell_type": "code",
   "execution_count": 1,
   "metadata": {},
   "outputs": [],
   "source": [
    "import requests\n",
    "# Canvas hand drawing\n",
    "from ipywidgets import Image\n",
    "from ipywidgets import ColorPicker, IntSlider, link, AppLayout, HBox\n",
    "from ipycanvas import Canvas, hold_canvas\n",
    "\n",
    "# OCR\n",
    "import easyocr\n",
    "\n",
    "# PDF para imagem\n",
    "from pdf2image import convert_from_path\n",
    "\n",
    "# para trabalhar com diretórios / sistema operacional\n",
    "import os\n",
    "\n",
    "# para os DataFrames\n",
    "import pandas as pd\n",
    "\n",
    "# para exibir os arquivos de imagem\n",
    "import cv2\n",
    "import matplotlib.pyplot as plt"
   ]
  },
  {
   "attachments": {},
   "cell_type": "markdown",
   "metadata": {},
   "source": [
    "### Baixando Arquivo e Salvando como PDF:"
   ]
  },
  {
   "cell_type": "code",
   "execution_count": 2,
   "metadata": {},
   "outputs": [],
   "source": [
    "\n",
    "data_url = \"https://d18rn0p25nwr6d.cloudfront.net/CIK-0000320193/b4266e40-1de6-4a34-9dfb-8632b8bd57e0.pdf\" #link para o 10k da Apple\n",
    "\n",
    "nome_saida = 'apple10k.pdf'\n",
    "\n",
    "def baixa(pdf_url, nome_saida):\n",
    "    response = requests.get(pdf_url) #pegando o pdf\n",
    "    \n",
    "    response.raise_for_status()  # vendo se está válido\n",
    "\n",
    "    with open(nome_saida, 'wb') as output_file:\n",
    "    \n",
    "        output_file.write(response.content) #escrevendo arquvio de saida\n",
    "\n",
    "baixa(data_url, nome_saida)"
   ]
  },
  {
   "attachments": {},
   "cell_type": "markdown",
   "metadata": {},
   "source": [
    "### Extraindo dados do arquivo PDF"
   ]
  },
  {
   "cell_type": "code",
   "execution_count": 3,
   "metadata": {},
   "outputs": [],
   "source": [
    "paginas = convert_from_path('apple10k.pdf', 200)\n"
   ]
  },
  {
   "cell_type": "code",
   "execution_count": 4,
   "metadata": {},
   "outputs": [],
   "source": [
    "#Salvando cada pagina do PDF como imagem para extracao usando OCR\n",
    "i = 1\n",
    "lista_imagens = []\n",
    "for pg in paginas:\n",
    "    img_path = './img/Apple10k_{}.jpg'.format(i)\n",
    "    pg.save(img_path, 'JPEG')\n",
    "    lista_imagens.append(img_path)\n",
    "    i += 1"
   ]
  },
  {
   "cell_type": "code",
   "execution_count": 5,
   "metadata": {},
   "outputs": [],
   "source": [
    "#criando o objeto reader, mudar para False caso nao rode\n",
    "reader = easyocr.Reader(['pt', 'en'], gpu = True) "
   ]
  },
  {
   "attachments": {},
   "cell_type": "markdown",
   "metadata": {},
   "source": [
    "### Lendo os dados das imagens \n"
   ]
  },
  {
   "cell_type": "code",
   "execution_count": 6,
   "metadata": {},
   "outputs": [
    {
     "name": "stdout",
     "output_type": "stream",
     "text": [
      "UNITED STATES SECURITIES AND EXCHANGE COMMISSION Washington; D.C. 20549 FORM 10-K (Mark One) ANNUAL REPORT PURSUANT TO SECTION 13 OR 15(d) OF THE SECURITIES EXCHANGE ACT OF 1934 For the fiscal year ended September 24, 2022 or TRANSITION REPORT PURSUANT TO SECTION 13 OR 15(d) OF THE SECURITIES EXCHANGE ACT OF 1934 For the transition period from to Commission File Number: 001-36743 Apple Inc. (Exact name of Registrant as specified in its charter) California 94-2404110 (State or other jurisdiction (LR.S. Employer Identification No.) of incorporation or organization) One Apple Park Cupertino, California 95014 (Address of principal executive offices) (Zip Code) (408) 996-1010 (Registrant's telephone number; including area code) Securities registered pursuant to Section 12(b) of the Act: Title of each class Trading symbol(s) Name of each exchange on which registered Common Stock, $0.00001 par value per share AAPL The Nasdaq Stock Market LLC 1.000% Notes due 2022 The Nasdaq Stock Market LLC 1.375% Notes due 2024 The Nasdaq Stock Market LLC 0.000% Notes due 2025 The Nasdaq Stock Market LLC 0.875% Notes due 2025 The Nasdaq Stock Market LLC 1.625% Notes due 2026 The Nasdaq Stock Market LLC 2.000% Notes due 2027 The Nasdaq Stock Market LLC 1.375% Notes due 2029 The Nasdaq Stock Market LLC 3.050% Notes due 2029 The Nasdaq Stock Market LLC 0.500% Notes due 2031 The Nasdaq Stock Market LLC 3.600% Notes due 2042 The Nasdaq Stock Market LLC Securities registered pursuant to Section 12(g) of the Act: None Indicate by check mark if the Registrant is a well-known seasoned issuer; as defined in Rule 405 of the Securities Act. Yes No Indicate by check mark if the Registrant is not required to file reports pursuant to Section 13 or Section 15(d) of the Act. Yes No Indicate by check mark whether the Registrant (1) has filed all reports required to be filed by Section 13 or 15(d) of the Securities Exchange Act of 1934 during the preceding 12 months (or for such shorter period that the Registrant was required to file such reports), and (2) has been subject to such filing requirements for the past 90 Yes No Indicate by check mark whether the Registrant has submitted electronically every Interactive Data File required to be submitted pursuant to Rule 405 of Regulation S-T (8232.405 of this chapter) during the preceding 12 months (or for such shorter period that the Registrant was required to submit such files) Way days-\n"
     ]
    }
   ],
   "source": [
    "lista_imagens[0]\n",
    "text = reader.readtext(lista_imagens[0], detail = 0)\n",
    "str_texto = \" \".join(text)\n",
    "print(str_texto)\n"
   ]
  },
  {
   "cell_type": "code",
   "execution_count": 9,
   "metadata": {},
   "outputs": [
    {
     "ename": "",
     "evalue": "",
     "output_type": "error",
     "traceback": [
      "\u001b[1;31mCanceled future for execute_request message before replies were done"
     ]
    },
    {
     "ename": "",
     "evalue": "",
     "output_type": "error",
     "traceback": [
      "\u001b[1;31mThe Kernel crashed while executing code in the the current cell or a previous cell. Please review the code in the cell(s) to identify a possible cause of the failure. Click <a href='https://aka.ms/vscodeJupyterKernelCrash'>here</a> for more info. View Jupyter <a href='command:jupyter.viewOutput'>log</a> for further details."
     ]
    }
   ],
   "source": [
    "text = reader.readtext(lista_imagens[0], detail=0)\n",
    "str_texto = \" \".join(text)\n",
    "print(str_texto)"
   ]
  },
  {
   "cell_type": "code",
   "execution_count": 7,
   "metadata": {},
   "outputs": [],
   "source": [
    "with open('./text/texto.txt', 'w') as f:\n",
    "    f.write(str_texto)"
   ]
  },
  {
   "cell_type": "code",
   "execution_count": null,
   "metadata": {},
   "outputs": [],
   "source": []
  },
  {
   "cell_type": "code",
   "execution_count": 8,
   "metadata": {},
   "outputs": [],
   "source": [
    "\n",
    "# import pytesseract\n",
    "# txt = pytesseract.image_to_string(lista_imagens[0])\n",
    "# print(txt)"
   ]
  }
 ],
 "metadata": {
  "kernelspec": {
   "display_name": "Python 3",
   "language": "python",
   "name": "python3"
  },
  "language_info": {
   "codemirror_mode": {
    "name": "ipython",
    "version": 3
   },
   "file_extension": ".py",
   "mimetype": "text/x-python",
   "name": "python",
   "nbconvert_exporter": "python",
   "pygments_lexer": "ipython3",
   "version": "3.10.6"
  },
  "orig_nbformat": 4
 },
 "nbformat": 4,
 "nbformat_minor": 2
}
